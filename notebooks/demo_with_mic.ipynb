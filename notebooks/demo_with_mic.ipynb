{
  "cells": [
    {
      "cell_type": "markdown",
      "metadata": {
        "id": "2a4ADJpsCqDl"
      },
      "source": [
        "### Clone the library "
      ]
    },
    {
      "cell_type": "code",
      "execution_count": null,
      "metadata": {
        "id": "cZtc6-UWAoXw",
        "vscode": {
          "languageId": "python"
        }
      },
      "outputs": [],
      "source": [
        "!git clone https://github.com/ARBML/klaam\n",
        "%cd klaam"
      ]
    },
    {
      "cell_type": "markdown",
      "metadata": {
        "id": "3VVt6RsLCtze"
      },
      "source": [
        "### Install dependencies "
      ]
    },
    {
      "cell_type": "code",
      "execution_count": null,
      "metadata": {
        "id": "FZQ3-QNw0c7C",
        "vscode": {
          "languageId": "python"
        }
      },
      "outputs": [],
      "source": [
        "%%capture\n",
        "!pip install -r requirements.txt"
      ]
    },
    {
      "cell_type": "markdown",
      "metadata": {
        "id": "mWBDMxTqCzH0"
      },
      "source": [
        "### Record audio\n",
        "Only works on colab by giving premssions to record the audio from the browser"
      ]
    },
    {
      "cell_type": "code",
      "execution_count": null,
      "metadata": {
        "id": "FGisa9H8Ceh7",
        "vscode": {
          "languageId": "python"
        }
      },
      "outputs": [],
      "source": [
        "from klaam.utils.audio import get_audio\n",
        "get_audio()"
      ]
    },
    {
      "cell_type": "markdown",
      "metadata": {
        "id": "pAKxQ2fNC1fG"
      },
      "source": [
        "### Try out classification model"
      ]
    },
    {
      "cell_type": "code",
      "execution_count": null,
      "metadata": {
        "id": "4nJcXcny0qrV",
        "vscode": {
          "languageId": "python"
        }
      },
      "outputs": [],
      "source": [
        "from klaam import SpeechClassification\n",
        "model = SpeechClassification()\n",
        "model.classify('demo.wav')"
      ]
    },
    {
      "cell_type": "markdown",
      "metadata": {
        "id": "Q6L7o5TpC4Nd"
      },
      "source": [
        "### Try out recongition model"
      ]
    },
    {
      "cell_type": "code",
      "execution_count": null,
      "metadata": {
        "id": "OIGRS-PGCeh8",
        "vscode": {
          "languageId": "python"
        }
      },
      "outputs": [],
      "source": [
        " from klaam import SpeechRecognition\n",
        " model = SpeechRecognition()\n",
        " model.transcribe('demo.wav')"
      ]
    }
  ],
  "metadata": {
    "accelerator": "GPU",
    "colab": {
      "collapsed_sections": [],
      "name": "Demo.ipynb",
      "provenance": []
    },
    "kernelspec": {
      "display_name": "Python 3",
      "language": "python",
      "name": "python3"
    }
  },
  "nbformat": 4,
  "nbformat_minor": 0
}
